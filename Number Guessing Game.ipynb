{
 "cells": [
  {
   "cell_type": "markdown",
   "id": "ee536d21",
   "metadata": {},
   "source": [
    "Number Guessing Game"
   ]
  },
  {
   "cell_type": "code",
   "execution_count": 30,
   "id": "e4cb55a6",
   "metadata": {},
   "outputs": [
    {
     "name": "stdout",
     "output_type": "stream",
     "text": [
      "Welcome to Guess My Number\n",
      "Enter Lower range:- 1\n",
      "Enter Upper range:- 3\n",
      "\n",
      "\tYou've only  2  chances to guess the integer!\n",
      "\n",
      "Guess a number:- 3\n",
      "You Guessed too high!\n",
      "Guess a number:- 2\n",
      "You Guessed too high!\n",
      "\n",
      "The number is 1\n",
      "\tBetter Luck Next time!\n"
     ]
    }
   ],
   "source": [
    "# Build a Number guessing game, in which the user selects a range.\n",
    "# Let’s say User selected a range, i.e., from A to B, where A and B belong to Integer.\n",
    "# Some random integer will be selected by the system and the user has to guess that integer in the minimum number of guesses\n",
    "import random\n",
    "import math\n",
    "\n",
    "game_title = \"Guess My Number\"\n",
    "print(\"Welcome to\", game_title)\n",
    "\n",
    "# Taking inputs with error handling\n",
    "while True:\n",
    "    try:\n",
    "        lower = int(input('Enter Lower range:- '))\n",
    "        upper = int(input('Enter Upper range:- '))\n",
    "        break\n",
    "    except ValueError:\n",
    "        print(\"Please enter valid integers for the ranges.\")\n",
    "\n",
    "# generating random number between the lower and upper\n",
    "x = random.randint(lower, upper)\n",
    "print(\"\\n\\tYou've only \", \n",
    "       round(math.log(upper - lower + 1, 2)),\n",
    "      \" chances to guess the integer!\\n\")\n",
    "\n",
    "# Initializing the number of guesses.\n",
    "count = 0\n",
    "success = False\n",
    " \n",
    "# for calculation of minimum number of\n",
    "# guesses depends upon range\n",
    "while count < math.log(upper - lower + 1, 2):\n",
    "    count += 1\n",
    " \n",
    "    # taking guessing number as input\n",
    "    while True:\n",
    "        try:\n",
    "            guess = int(input(\"Guess a number:- \"))\n",
    "            break\n",
    "        except ValueError:\n",
    "            print(\"Please enter a valid integer.\")\n",
    " \n",
    "    # Condition testing\n",
    "    if x == guess:\n",
    "        print(\"Congratulations you did it in \",\n",
    "              count, \" try\")\n",
    "        success = True\n",
    "        # Once guessed, loop will break\n",
    "        break\n",
    "    elif x > guess:\n",
    "        print(\"You guessed too low!\")\n",
    "    elif x < guess:\n",
    "        print(\"You Guessed too high!\")\n",
    "\n",
    "# Shows this output If Guessing is more than required guesses.\n",
    "if count >= math.log(upper - lower + 1, 2) and not success:\n",
    "    print(\"\\nThe number is %d\" % x)\n",
    "    print(\"\\tBetter Luck Next time!\")"
   ]
  },
  {
   "cell_type": "code",
   "execution_count": 29,
   "id": "9856e8c1",
   "metadata": {},
   "outputs": [
    {
     "name": "stdout",
     "output_type": "stream",
     "text": [
      "Try Again! You guessed too high\n",
      "Try Again! You guessed too small\n"
     ]
    }
   ],
   "source": [
    "# use loop\n",
    "print(f'Try Again! You guessed too high')\n",
    "print(f'Try Again! You guessed too small')"
   ]
  },
  {
   "cell_type": "code",
   "execution_count": 9,
   "id": "3fd12cc4",
   "metadata": {},
   "outputs": [
    {
     "ename": "NameError",
     "evalue": "name 'log2' is not defined",
     "output_type": "error",
     "traceback": [
      "\u001b[1;31m---------------------------------------------------------------------------\u001b[0m",
      "\u001b[1;31mNameError\u001b[0m                                 Traceback (most recent call last)",
      "Cell \u001b[1;32mIn[9], line 1\u001b[0m\n\u001b[1;32m----> 1\u001b[0m min_guesses \u001b[38;5;241m=\u001b[39m log2(range2 \u001b[38;5;241m-\u001b[39m range1 \u001b[38;5;241m+\u001b[39m \u001b[38;5;241m1\u001b[39m)\n",
      "\u001b[1;31mNameError\u001b[0m: name 'log2' is not defined"
     ]
    }
   ],
   "source": [
    "min_guesses = log2(range2 - range1 + 1)\n"
   ]
  },
  {
   "cell_type": "code",
   "execution_count": 14,
   "id": "aaec7f54",
   "metadata": {},
   "outputs": [],
   "source": [
    "# import math to use log are rewrite it\n",
    "# the 2 at the end is for the log base 2\n",
    "min_guesses = math.log(range2 - range1 + 1, 2)"
   ]
  },
  {
   "cell_type": "code",
   "execution_count": null,
   "id": "14a64f8c",
   "metadata": {},
   "outputs": [],
   "source": [
    "# Taking inputs\n",
    "lower = int(input('Enter Lower bound:- '))\n",
    "upper = int(input('Enter Upper bound:- '))"
   ]
  }
 ],
 "metadata": {
  "kernelspec": {
   "display_name": "Python 3 (ipykernel)",
   "language": "python",
   "name": "python3"
  },
  "language_info": {
   "codemirror_mode": {
    "name": "ipython",
    "version": 3
   },
   "file_extension": ".py",
   "mimetype": "text/x-python",
   "name": "python",
   "nbconvert_exporter": "python",
   "pygments_lexer": "ipython3",
   "version": "3.11.7"
  }
 },
 "nbformat": 4,
 "nbformat_minor": 5
}
