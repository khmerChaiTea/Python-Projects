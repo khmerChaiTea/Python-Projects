{
 "cells": [
  {
   "cell_type": "markdown",
   "id": "8b801414",
   "metadata": {},
   "source": [
    "Building an Interactive Game"
   ]
  },
  {
   "cell_type": "markdown",
   "id": "34e33c86",
   "metadata": {},
   "source": [
    "My First Interactive Python Game\n",
    "\"Guess My Word\""
   ]
  },
  {
   "cell_type": "code",
   "execution_count": 15,
   "id": "c378f3f1",
   "metadata": {},
   "outputs": [],
   "source": [
    "#We start by importing the random library to use later on.\n",
    "import random"
   ]
  },
  {
   "cell_type": "code",
   "execution_count": 16,
   "id": "326ee8b3",
   "metadata": {},
   "outputs": [],
   "source": [
    "#Define initial variables\n",
    "game_title = \"Guess My Word\""
   ]
  },
  {
   "cell_type": "code",
   "execution_count": 17,
   "id": "c45761a7",
   "metadata": {},
   "outputs": [],
   "source": [
    "# Set up the list of words to choose from\n",
    "word_bank = []"
   ]
  },
  {
   "cell_type": "code",
   "execution_count": 18,
   "id": "37aec933",
   "metadata": {},
   "outputs": [],
   "source": [
    "#Open file for loading in the word bank\n",
    "with open(\"words.txt\") as word_file:\n",
    "    for line in word_file:\n",
    "        word_bank.append(line.rstrip().lower())"
   ]
  },
  {
   "cell_type": "code",
   "execution_count": 19,
   "id": "dc2779c5",
   "metadata": {},
   "outputs": [],
   "source": [
    "#Select the word to guess\n",
    "# Pick a random word from the list\n",
    "word_to_guess = random.choice(word_bank)"
   ]
  },
  {
   "cell_type": "code",
   "execution_count": 20,
   "id": "f7ed65c9",
   "metadata": {},
   "outputs": [],
   "source": [
    "#Define the remaining game variables\n",
    "# Set up the game variables\n",
    "misplaced_guesses = []\n",
    "incorrect_guesses = []\n",
    "max_turns = 5\n",
    "turns_taken = 0"
   ]
  },
  {
   "cell_type": "code",
   "execution_count": 21,
   "id": "33ca61f5",
   "metadata": {},
   "outputs": [
    {
     "name": "stdout",
     "output_type": "stream",
     "text": [
      "Welcome to Guess My Word\n",
      "The word has 5 letters.\n",
      "You have 5 turns left.\n"
     ]
    }
   ],
   "source": [
    "#Print the current game state\n",
    "# Display the initial game state\n",
    "print(\"Welcome to\", game_title)\n",
    "print(\"The word has\", len(word_to_guess), \"letters.\")\n",
    "print(\"You have\", max_turns - turns_taken, \"turns left.\")"
   ]
  },
  {
   "cell_type": "code",
   "execution_count": 22,
   "id": "fea038e3",
   "metadata": {},
   "outputs": [
    {
     "name": "stdout",
     "output_type": "stream",
     "text": [
      "Guess a word: fruit\n",
      "_ _ _ _ _ \n",
      "\n",
      "Misplaced letters:  []\n",
      "Incorrect letters:  ['f', 'r', 'u', 'i', 't']\n",
      "You have 4 turns left.\n",
      "Guess a word: lions\n",
      "_ _ _ _ _ \n",
      "\n",
      "Misplaced letters:  ['o', 'n']\n",
      "Incorrect letters:  ['f', 'r', 'u', 'i', 't', 'l', 's']\n",
      "You have 3 turns left.\n",
      "Guess a word: neats\n",
      "_ _ _ _ _ \n",
      "\n",
      "Misplaced letters:  ['o', 'n', 'a']\n",
      "Incorrect letters:  ['f', 'r', 'u', 'i', 't', 'l', 's', 'e']\n",
      "You have 2 turns left.\n",
      "Guess a word: death\n",
      "_ _ _ _ _ \n",
      "\n",
      "Misplaced letters:  ['o', 'n', 'a']\n",
      "Incorrect letters:  ['f', 'r', 'u', 'i', 't', 'l', 's', 'e', 'd', 'h']\n",
      "You have 1 turns left.\n",
      "Guess a word: dance\n",
      "_ _ _ _ _ \n",
      "\n",
      "Misplaced letters:  ['o', 'n', 'a']\n",
      "Incorrect letters:  ['f', 'r', 'u', 'i', 't', 'l', 's', 'e', 'd', 'h', 'c']\n",
      "Sorry, you lost. The word was woman\n"
     ]
    }
   ],
   "source": [
    "#Build the game loop\n",
    "while turns_taken < max_turns:\n",
    "    # Get the player's guess\n",
    "    guess = input(\"Guess a word: \").lower()\n",
    "\n",
    "    # Check if the guess length equals 5 letters and is all alpha letters\n",
    "    if len(guess) != len(word_to_guess) or not guess.isalpha():\n",
    "        print(\"Please enter 5-letter word.\")\n",
    "        continue\n",
    "\n",
    "    # Check each letter in the guess against the word's letters\n",
    "    index = 0\n",
    "    for c in guess:\n",
    "        if c == word_to_guess[index]:\n",
    "            print(c, end=\" \")\n",
    "            if c in misplaced_guesses:\n",
    "                misplaced_guesses.remove(c)\n",
    "        elif c in word_to_guess:\n",
    "            if c not in misplaced_guesses:\n",
    "                misplaced_guesses.append(c)\n",
    "            print(\"_\", end=\" \")\n",
    "        else:\n",
    "            if c not in incorrect_guesses:\n",
    "                incorrect_guesses.append(c)\n",
    "            print(\"_\", end=\" \")\n",
    "        index += 1\n",
    "\n",
    "    print(\"\\n\")\n",
    "    print(\"Misplaced letters: \", misplaced_guesses)\n",
    "    print(\"Incorrect letters: \", incorrect_guesses)\n",
    "    turns_taken += 1\n",
    "\n",
    "    # Check if the player has won\n",
    "    if guess == word_to_guess:\n",
    "        print(\"Congratulations, you win!\")\n",
    "        break\n",
    "\n",
    "    # Check if the player has lost\n",
    "    if turns_taken == max_turns:\n",
    "        print(\"Sorry, you lost. The word was\", word_to_guess)\n",
    "        break\n",
    "\n",
    "    # Display the number of turns left and ask for another guess\n",
    "    print(\"You have\", max_turns - turns_taken, \"turns left.\")"
   ]
  },
  {
   "cell_type": "code",
   "execution_count": 24,
   "id": "94b14e60",
   "metadata": {},
   "outputs": [
    {
     "name": "stdout",
     "output_type": "stream",
     "text": [
      "Welcome to Guess My Word\n",
      "The word has 5 letters.\n",
      "You have 5 turns left.\n",
      "Guess a word: fhkjajk\n",
      "Please enter 5-letter word.\n",
      "Guess a word: adfa\n",
      "Please enter 5-letter word.\n",
      "Guess a word: ada\n",
      "Please enter 5-letter word.\n",
      "Guess a word: dfag\n",
      "Please enter 5-letter word.\n",
      "Guess a word: finis\n",
      "_ _ _ _ _ \n",
      "\n",
      "Misplaced letters:  ['i']\n",
      "Incorrect letters:  ['f', 'n', 's']\n",
      "You have 4 turns left.\n",
      "Guess a word: junes\n",
      "_ _ _ _ _ \n",
      "\n",
      "Misplaced letters:  ['i']\n",
      "Incorrect letters:  ['f', 'n', 's', 'j', 'u', 'e']\n",
      "You have 3 turns left.\n",
      "Guess a word: janes\n",
      "_ a _ _ _ \n",
      "\n",
      "Misplaced letters:  ['i']\n",
      "Incorrect letters:  ['f', 'n', 's', 'j', 'u', 'e']\n",
      "You have 2 turns left.\n",
      "Guess a word: jump\n",
      "Please enter 5-letter word.\n",
      "Guess a word: jumps\n",
      "_ _ _ _ _ \n",
      "\n",
      "Misplaced letters:  ['i']\n",
      "Incorrect letters:  ['f', 'n', 's', 'j', 'u', 'e', 'm', 'p']\n",
      "You have 1 turns left.\n",
      "Guess a word: jetss\n",
      "_ _ _ _ _ \n",
      "\n",
      "Misplaced letters:  ['i']\n",
      "Incorrect letters:  ['f', 'n', 's', 'j', 'u', 'e', 'm', 'p', 't']\n",
      "Sorry, you lost. The word was daily\n"
     ]
    }
   ],
   "source": [
    "import random\n",
    "game_title = \"Guess My Word\"\n",
    "word_bank = []\n",
    "with open(\"words.txt\") as word_file:\n",
    "    for line in word_file:\n",
    "        word_bank.append(line.rstrip().lower())\n",
    "word_to_guess = random.choice(word_bank)\n",
    "misplaced_guesses = []\n",
    "incorrect_guesses = []\n",
    "max_turns = 5\n",
    "turns_taken = 0\n",
    "print(\"Welcome to\", game_title)\n",
    "print(\"The word has\", len(word_to_guess), \"letters.\")\n",
    "print(\"You have\", max_turns - turns_taken, \"turns left.\")\n",
    "while turns_taken < max_turns:\n",
    "    # Get the player's guess\n",
    "    guess = input(\"Guess a word: \").lower()\n",
    "\n",
    "    # Check if the guess length equals 5 letters and is all alpha letters\n",
    "    if len(guess) != len(word_to_guess) or not guess.isalpha():\n",
    "        print(\"Please enter 5-letter word.\")\n",
    "        continue\n",
    "\n",
    "    # Check each letter in the guess against the word's letters\n",
    "    index = 0\n",
    "    for c in guess:\n",
    "        if c == word_to_guess[index]:\n",
    "            print(c, end=\" \")\n",
    "            if c in misplaced_guesses:\n",
    "                misplaced_guesses.remove(c)\n",
    "        elif c in word_to_guess:\n",
    "            if c not in misplaced_guesses:\n",
    "                misplaced_guesses.append(c)\n",
    "            print(\"_\", end=\" \")\n",
    "        else:\n",
    "            if c not in incorrect_guesses:\n",
    "                incorrect_guesses.append(c)\n",
    "            print(\"_\", end=\" \")\n",
    "        index += 1\n",
    "\n",
    "    print(\"\\n\")\n",
    "    print(\"Misplaced letters: \", misplaced_guesses)\n",
    "    print(\"Incorrect letters: \", incorrect_guesses)\n",
    "    turns_taken += 1\n",
    "\n",
    "    # Check if the player has won\n",
    "    if guess == word_to_guess:\n",
    "        print(\"Congratulations, you win!\")\n",
    "        break\n",
    "\n",
    "    # Check if the player has lost\n",
    "    if turns_taken == max_turns:\n",
    "        print(\"Sorry, you lost. The word was\", word_to_guess)\n",
    "        break\n",
    "\n",
    "    # Display the number of turns left and ask for another guess\n",
    "    print(\"You have\", max_turns - turns_taken, \"turns left.\")"
   ]
  },
  {
   "cell_type": "code",
   "execution_count": null,
   "id": "cb37092d",
   "metadata": {},
   "outputs": [],
   "source": []
  }
 ],
 "metadata": {
  "kernelspec": {
   "display_name": "Python 3 (ipykernel)",
   "language": "python",
   "name": "python3"
  },
  "language_info": {
   "codemirror_mode": {
    "name": "ipython",
    "version": 3
   },
   "file_extension": ".py",
   "mimetype": "text/x-python",
   "name": "python",
   "nbconvert_exporter": "python",
   "pygments_lexer": "ipython3",
   "version": "3.11.7"
  }
 },
 "nbformat": 4,
 "nbformat_minor": 5
}
